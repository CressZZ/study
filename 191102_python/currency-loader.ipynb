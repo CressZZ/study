{
 "cells": [
  {
   "cell_type": "code",
   "execution_count": 10,
   "metadata": {},
   "outputs": [
    {
     "name": "stdout",
     "output_type": "stream",
     "text": [
      "1,167.00\n"
     ]
    }
   ],
   "source": [
    "import requests\n",
    "from bs4 import BeautifulSoup\n",
    "\n",
    "response = requests.get('https://search.naver.com/search.naver?sm=top_hty&fbm=0&ie=utf8&query=%ED%99%98%EC%9C%A8')\n",
    "\n",
    "html = BeautifulSoup (response.content, 'html.parser')\n",
    "\n",
    "spt_con = html.find(class_='spt_con')\n",
    "strong = spt_con.find('strong')\n",
    "currency = strong.get_text()\n",
    "\n",
    "print(currency)\n",
    "\n",
    "file = open('currnecies.txt', 'a')\n",
    "file.write(currency)\n",
    "file.write('\\n')\n",
    "\n",
    "file.close()\n"
   ]
  },
  {
   "cell_type": "code",
   "execution_count": 49,
   "metadata": {},
   "outputs": [
    {
     "name": "stdout",
     "output_type": "stream",
     "text": [
      "['https://cf.festa.io/img/2019-10-29/a00fec39-164b-4120-a6aa-cc5ee8a66797.jpg', 'https://cf.festa.io/img/2019-9-26/63a27480-f818-4822-a94e-cb748c421898.png', 'https://cf.festa.io/img/2019-9-30/12674684-bdc8-4429-ad67-7a16ecaf51d2.png', 'https://cf.festa.io/img/2019-9-31/8d784fec-4cbb-45e3-b593-d53bb449bb3f.jpg', 'https://cf.festa.io/img/2019-10-30/790347c5-164d-48b1-ae04-09eda538cdf4.jpg', 'https://cf.festa.io/img/2019-10-32/19c9d373-2301-421e-927f-49acb121e4a1.png', 'https://cf.festa.io/img/2019-10-25/b15ffbb1-dd49-40ef-84b7-31d7636180b3.jpg', 'https://cf.festa.io/img/2019-10-16/68abb3cc-115f-4308-9cc6-ceedca3b98a5.jpg', 'https://cf.festa.io/img/2019-10-32/91349be8-bb74-47e6-be2d-c4295eee1816.png', 'https://cf.festa.io/img/2019-10-16/7e1c208b-4016-4505-82ac-f63e270079a5.png', 'https://cf.festa.io/img/2019-10-29/a262106a-e84f-494e-927f-b9bae8297d0a.png', 'https://cf.festa.io/img/2019-9-27/ad43592d-9837-4719-9ebc-354ba0ea0764.jpg', 'https://cf.festa.io/img/2019-10-26/d68bec55-956f-420c-87a8-1d5a7c201c86.png', 'https://cf.festa.io/img/2019-10-25/55055952-8597-4008-afd4-12e347b63826.png', 'https://cf.festa.io/img/2019-10-16/2a972fe3-2f56-4ba6-a57f-c45299e1b34b.jpg', 'https://cf.festa.io/img/2019-10-26/4e18fafa-c85d-465b-b7e7-400d63f99492.png', 'https://cf.festa.io/img/2019-10-31/b63a2de0-f3fb-4f2a-a60c-0f6518183245.png', 'https://cf.festa.io/img/2019-10-32/e8cf9147-6ceb-4afb-ac31-015d1a9a988e.jpeg', 'https://cf.festa.io/img/2019-10-31/05c95c98-a8f3-4ba5-8314-0d14504f6e45.jpg', 'https://cf.festa.io/img/2019-10-32/b29461f8-e075-4e20-bf8f-e2b3c567166e.png', 'https://cf.festa.io/img/2019-10-24/aabd8136-1818-42d7-8478-c2f22b35a219.png', 'https://cf.festa.io/img/2019-10-21/aa6f976f-c5fc-4b83-892a-a6e07c4097d0.png', 'https://cf.festa.io/img/2019-11-2/589da247-1706-4231-9a64-488a4e51f638.png', 'https://cf.festa.io/img/2019-10-25/b4ff0294-f832-4265-a0b9-f84224a15a02.png']\n"
     ]
    }
   ],
   "source": [
    "import requests\n",
    "from bs4 import BeautifulSoup\n",
    "import json\n",
    "\n",
    "response = requests.get('https://festa.io/api/v1/events?page=1&pageSize=24&order=startDate&excludeExternalEvents=false')\n",
    "res = response.json()\n",
    "res = res['rows']\n",
    "\n",
    "imgs = [item['metadata']['coverImage'] for item in res]\n",
    "# imgs = res[0]\n",
    "\n",
    "# print(res)\n",
    "# print(imgs['metadata']['coverImage'])\n",
    "print(imgs)\n",
    "\n"
   ]
  },
  {
   "cell_type": "code",
   "execution_count": 29,
   "metadata": {},
   "outputs": [
    {
     "data": {
      "text/plain": [
       "{'name': '홍길동', 'age': 29}"
      ]
     },
     "execution_count": 29,
     "metadata": {},
     "output_type": "execute_result"
    }
   ],
   "source": [
    "json.loads('{ \"name\": \"홍길동\", \"age\": 29 }')\n",
    "\n"
   ]
  },
  {
   "cell_type": "code",
   "execution_count": null,
   "metadata": {},
   "outputs": [],
   "source": []
  }
 ],
 "metadata": {
  "kernelspec": {
   "display_name": "Python 3",
   "language": "python",
   "name": "python3"
  },
  "language_info": {
   "codemirror_mode": {
    "name": "ipython",
    "version": 3
   },
   "file_extension": ".py",
   "mimetype": "text/x-python",
   "name": "python",
   "nbconvert_exporter": "python",
   "pygments_lexer": "ipython3",
   "version": "3.6.5"
  }
 },
 "nbformat": 4,
 "nbformat_minor": 2
}
