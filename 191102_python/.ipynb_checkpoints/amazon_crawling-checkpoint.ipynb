{
 "cells": [
  {
   "cell_type": "code",
   "execution_count": null,
   "metadata": {},
   "outputs": [],
   "source": [
    "import requests\n",
    "from bs4 import BeautifulSoup\n",
    "from datetime import datetime\n",
    "import pandas\n",
    "\n",
    "response = requests.get('http://www.yes24.com/searchcorner/Search?keywordAd=&keyword=&domain=ALL&qdomain=%C0%FC%C3%BC&Wcode=001_005&query=%B8%B6%BA%ED')\n",
    "html = BeautifulSoup(response.content, 'html.parser')\n",
    "goods_names = html.find_all(class_='goods_name')\n",
    "goods_prices = html.find_all(class_='goods_price')\n",
    "\n",
    "\n",
    "titles = [];\n",
    "prices = [];\n",
    "\n",
    "for goods_name in goods_names : \n",
    "    titles.append(goods_name.get_text().strip())\n",
    "        \n",
    "        \n",
    "for price in goods_prices :\n",
    "    strong = price.find('strong')\n",
    "#     prices.append(strong.get_text().strip())\n",
    "    print(strong)\n",
    "\n",
    "data = pandas.DataFrame()\n",
    "\n",
    "data['Title']= titles\n",
    "# datap['Price'] = prices\n",
    "\n",
    "# print(response.content)\n",
    "print(data)\n",
    "# print(data)\n",
    "\n"
   ]
  },
  {
   "cell_type": "code",
   "execution_count": null,
   "metadata": {},
   "outputs": [],
   "source": []
  }
 ],
 "metadata": {
  "kernelspec": {
   "display_name": "Python 3",
   "language": "python",
   "name": "python3"
  },
  "language_info": {
   "codemirror_mode": {
    "name": "ipython",
    "version": 3
   },
   "file_extension": ".py",
   "mimetype": "text/x-python",
   "name": "python",
   "nbconvert_exporter": "python",
   "pygments_lexer": "ipython3",
   "version": "3.6.5"
  }
 },
 "nbformat": 4,
 "nbformat_minor": 2
}
