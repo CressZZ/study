{
 "cells": [
  {
   "cell_type": "code",
   "execution_count": 15,
   "metadata": {},
   "outputs": [
    {
     "name": "stdout",
     "output_type": "stream",
     "text": [
      "aa\n"
     ]
    }
   ],
   "source": [
    "file = open( './test.txt', 'a' )\n",
    "file.write( 'Hello World\\nHello Python\\n' )\n",
    "file.close()\n",
    "\n",
    "print('aa')"
   ]
  },
  {
   "cell_type": "code",
   "execution_count": 19,
   "metadata": {},
   "outputs": [
    {
     "name": "stdout",
     "output_type": "stream",
     "text": [
      "['b', 'a']\n",
      "('b', 'a')\n",
      "{'a', 'b'}\n"
     ]
    }
   ],
   "source": [
    "number = 100\n",
    "array = []\n",
    "array.append('b')\n",
    "array.append('a')\n",
    "\n",
    "tuple1 = tuple(array)\n",
    "set1 = set(array)\n",
    "\n",
    "print(array)\n",
    "print(tuple1)\n",
    "print(set1)"
   ]
  },
  {
   "cell_type": "code",
   "execution_count": 29,
   "metadata": {},
   "outputs": [
    {
     "name": "stdout",
     "output_type": "stream",
     "text": [
      "   numbers strings koreans mixed\n",
      "0        1       a       가     가\n",
      "1        2       b       나     1\n",
      "2        3       c       다     다\n",
      "3        4       d       라     라\n",
      "4        5       e       마  True\n",
      "   numbers strings koreans mixed\n",
      "0        1       a       가     가\n",
      "1        2       b       나     1\n",
      "2        3       c       다     다\n",
      "3        4       d       라     라\n",
      "4        5       e       마     1\n"
     ]
    }
   ],
   "source": [
    "import pandas\n",
    "\n",
    "array = [1,2,3,4,5];\n",
    "strings = ['a', 'b', 'c', 'd', 'e'];\n",
    "koreans = ['가', '나', '다', '라', '마'];\n",
    "mixed = ['가', 1 , '다', '라', True];\n",
    "\n",
    "data = pandas.DataFrame()\n",
    "data['numbers'] = array;\n",
    "data['strings'] = strings;\n",
    "data['koreans'] = koreans\n",
    "data['mixed'] = mixed\n",
    "\n",
    "# print(data)\n",
    "\n",
    "data.to_csv('demo.csv', index=False)\n",
    "data.to_excel('demo.xls', encoding='utf-8-sig', index=False)\n",
    "# data.to_excel('demo.xls', encoding='cp949')\n",
    "\n",
    "loadedCsv = pandas.read_csv('demo.csv')\n",
    "loadedXls = pandas.read_excel('demo.xls')\n",
    "\n",
    "print(loadedCsv)\n",
    "print(loadedXls)"
   ]
  },
  {
   "cell_type": "code",
   "execution_count": null,
   "metadata": {},
   "outputs": [],
   "source": []
  }
 ],
 "metadata": {
  "kernelspec": {
   "display_name": "Python 3",
   "language": "python",
   "name": "python3"
  },
  "language_info": {
   "codemirror_mode": {
    "name": "ipython",
    "version": 3
   },
   "file_extension": ".py",
   "mimetype": "text/x-python",
   "name": "python",
   "nbconvert_exporter": "python",
   "pygments_lexer": "ipython3",
   "version": "3.6.5"
  }
 },
 "nbformat": 4,
 "nbformat_minor": 2
}
